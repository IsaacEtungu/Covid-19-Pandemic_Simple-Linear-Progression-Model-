{
 "cells": [
  {
   "cell_type": "markdown",
   "id": "unusual-clear",
   "metadata": {},
   "source": [
    "# Segmenting and Grouping Neighborhood Vulnerable to Covid-19 Pandemic"
   ]
  },
  {
   "cell_type": "markdown",
   "id": "lined-session",
   "metadata": {},
   "source": [
    "<h1>By Isaac Etungu</h1>"
   ]
  },
  {
   "cell_type": "markdown",
   "id": "temporal-battery",
   "metadata": {},
   "source": [
    "<h2>Part One: Module Development.</h2>"
   ]
  },
  {
   "cell_type": "markdown",
   "id": "sophisticated-revolution",
   "metadata": {},
   "source": [
    "In this section, I will develop a <b>Simple Linear Regression Model</b> that will predict the number of deaths due to Convid-19 Pandemic in the World using the variables or features. This is just an estimate but should give us an objective idea of how much the Pandemic will cost."
   ]
  },
  {
   "cell_type": "markdown",
   "id": "adopted-infection",
   "metadata": {},
   "source": [
    "Data Analytics, we often use Model Development to help us predict future observations from the data we have. In Artificial Intelligence, a Model will help us understand the exact relationship between different variables and how these variables are used to predict the result."
   ]
  },
  {
   "cell_type": "markdown",
   "id": "aquatic-visiting",
   "metadata": {},
   "source": [
    "<b>First; I install lxml from conda</b>"
   ]
  },
  {
   "cell_type": "code",
   "execution_count": 1,
   "id": "compound-article",
   "metadata": {},
   "outputs": [
    {
     "name": "stdout",
     "output_type": "stream",
     "text": [
      "Collecting package metadata (current_repodata.json): done\n",
      "Solving environment: done\n",
      "\n",
      "\n",
      "==> WARNING: A newer version of conda exists. <==\n",
      "  current version: 4.9.2\n",
      "  latest version: 4.10.1\n",
      "\n",
      "Please update conda by running\n",
      "\n",
      "    $ conda update -n base conda\n",
      "\n",
      "\n",
      "\n",
      "## Package Plan ##\n",
      "\n",
      "  environment location: /srv/conda/envs/notebook\n",
      "\n",
      "  added / updated specs:\n",
      "    - lxml\n",
      "\n",
      "\n",
      "The following packages will be UPDATED:\n",
      "\n",
      "  ca-certificates    anaconda::ca-certificates-2020.10.14-0 --> conda-forge::ca-certificates-2021.5.30-ha878542_0\n",
      "  certifi                anaconda::certifi-2020.6.20-py36_0 --> conda-forge::certifi-2021.5.30-py36h5fab9bb_0\n",
      "\n",
      "\n",
      "Preparing transaction: done\n",
      "Verifying transaction: done\n",
      "Executing transaction: done\n",
      "\n",
      "Note: you may need to restart the kernel to use updated packages.\n"
     ]
    }
   ],
   "source": [
    "conda install -y lxml"
   ]
  },
  {
   "cell_type": "markdown",
   "id": "eight-telling",
   "metadata": {},
   "source": [
    "<b>Then import libraries</b>"
   ]
  },
  {
   "cell_type": "code",
   "execution_count": 2,
   "id": "burning-compact",
   "metadata": {},
   "outputs": [],
   "source": [
    "import requests\n",
    "import lxml.html as lh\n",
    "import pandas as pd"
   ]
  },
  {
   "cell_type": "markdown",
   "id": "technical-mexican",
   "metadata": {},
   "source": [
    "<b> I remove the website to be put in the notebook</b>"
   ]
  },
  {
   "cell_type": "code",
   "execution_count": 3,
   "id": "raised-bowling",
   "metadata": {},
   "outputs": [
    {
     "data": {
      "text/plain": [
       "[6, 6, 6, 6, 6, 6, 6, 6, 6, 6, 6, 6]"
      ]
     },
     "execution_count": 3,
     "metadata": {},
     "output_type": "execute_result"
    }
   ],
   "source": [
    "WHO_url = 'https://www.ecdc.europa.eu/en/geographical-distribution-2019-ncov-cases' #assign the wiki page\n",
    "#WHO_url = 'https://data.humdata.org/dataset/novel-coronavirus-2019-ncov-cases'\n",
    "\n",
    "page = requests.get(WHO_url) # create a handle for contents of the wiki page\n",
    "\n",
    "doc = lh.fromstring(page.content) # store content of the wiki page under doc\n",
    "\n",
    "tr_elements = doc.xpath('//tr') # parse data stored between tr in the html\n",
    "\n",
    "[len(T) for T in tr_elements[:12]] # check the length of the first 12 rows"
   ]
  },
  {
   "cell_type": "markdown",
   "id": "composed-lawrence",
   "metadata": {},
   "source": [
    "<b>Checking the table headers</b>"
   ]
  },
  {
   "cell_type": "code",
   "execution_count": 4,
   "id": "protecting-material",
   "metadata": {},
   "outputs": [
    {
     "name": "stdout",
     "output_type": "stream",
     "text": [
      "1:Region \n",
      "2:Places reporting cases\n",
      "3:Cases\n",
      "4:Deaths\n",
      "5:Confirmed cases\n",
      "\t\t\t during\n",
      "\t\t\tthe 14-days\n",
      "6:Reporting period\n",
      "\t\t\tYYYY-WW\n"
     ]
    }
   ],
   "source": [
    "tr_elements = doc.xpath('//tr') # parse first row as header\n",
    "\n",
    "col = [] # create empty list\n",
    "i = 0\n",
    "\n",
    "for t in tr_elements[0]: # for each row, store each first element (header) and an empty list\n",
    "    i+=1\n",
    "    name=t.text_content()\n",
    "    print(\"%d:%s\" % (i,name))\n",
    "    col.append((name,[]))"
   ]
  },
  {
   "cell_type": "markdown",
   "id": "athletic-advocate",
   "metadata": {},
   "source": [
    "<b>Check the data in other Row</b>"
   ]
  },
  {
   "cell_type": "code",
   "execution_count": 5,
   "id": "transsexual-evans",
   "metadata": {},
   "outputs": [],
   "source": [
    "for j in range(1,len(tr_elements)): # Because header is the first row, data would be store in the subsequent rows.\n",
    "    T = tr_elements[j] #T is j'th row\n",
    "    \n",
    "    if len(T)!=6: #if row is not size 3, //tr data is not from the table.\n",
    "        break\n",
    "        \n",
    "    i = 0 #i is the index of the first column\n",
    "    \n",
    "    for t in T.iterchildren(): #iterate through each element of the row\n",
    "        data=t.text_content()\n",
    "            \n",
    "        col[i][1].append(data) #append the data to the empty list of the i'th column\n",
    "            \n",
    "        i+=1 #increment i for the next column\n"
   ]
  },
  {
   "cell_type": "markdown",
   "id": "systematic-blond",
   "metadata": {},
   "source": [
    "<b>What about the numbers of rows and columns</b>"
   ]
  },
  {
   "cell_type": "code",
   "execution_count": 6,
   "id": "annual-daniel",
   "metadata": {},
   "outputs": [
    {
     "data": {
      "text/plain": [
       "[216, 216, 216, 216, 216, 216]"
      ]
     },
     "execution_count": 6,
     "metadata": {},
     "output_type": "execute_result"
    }
   ],
   "source": [
    "[len(C) for (title,C) in col]"
   ]
  },
  {
   "cell_type": "markdown",
   "id": "stable-apparel",
   "metadata": {},
   "source": [
    "<b>Displays the data frame with three columns.</b>"
   ]
  },
  {
   "cell_type": "code",
   "execution_count": 7,
   "id": "focal-father",
   "metadata": {},
   "outputs": [],
   "source": [
    "Dict = {title:column for (title,column) in col}\n",
    "df = pd.DataFrame(Dict)\n"
   ]
  },
  {
   "cell_type": "markdown",
   "id": "described-performance",
   "metadata": {},
   "source": [
    "Display first 12 row"
   ]
  },
  {
   "cell_type": "code",
   "execution_count": 8,
   "id": "lesser-clearing",
   "metadata": {},
   "outputs": [
    {
     "data": {
      "text/html": [
       "<div>\n",
       "<style scoped>\n",
       "    .dataframe tbody tr th:only-of-type {\n",
       "        vertical-align: middle;\n",
       "    }\n",
       "\n",
       "    .dataframe tbody tr th {\n",
       "        vertical-align: top;\n",
       "    }\n",
       "\n",
       "    .dataframe thead th {\n",
       "        text-align: right;\n",
       "    }\n",
       "</style>\n",
       "<table border=\"1\" class=\"dataframe\">\n",
       "  <thead>\n",
       "    <tr style=\"text-align: right;\">\n",
       "      <th></th>\n",
       "      <th>Region</th>\n",
       "      <th>Places reporting cases</th>\n",
       "      <th>Cases</th>\n",
       "      <th>Deaths</th>\n",
       "      <th>Confirmed cases\\n\\t\\t\\t during\\n\\t\\t\\tthe 14-days</th>\n",
       "      <th>Reporting period\\n\\t\\t\\tYYYY-WW</th>\n",
       "    </tr>\n",
       "  </thead>\n",
       "  <tbody>\n",
       "    <tr>\n",
       "      <th>0</th>\n",
       "      <td>Africa</td>\n",
       "      <td>Algeria</td>\n",
       "      <td>133388</td>\n",
       "      <td>3571</td>\n",
       "      <td>4663</td>\n",
       "      <td>2021-22 and 2021-23</td>\n",
       "    </tr>\n",
       "    <tr>\n",
       "      <th>1</th>\n",
       "      <td></td>\n",
       "      <td>Angola</td>\n",
       "      <td>36600</td>\n",
       "      <td>825</td>\n",
       "      <td>2420</td>\n",
       "      <td>2021-22 and 2021-23</td>\n",
       "    </tr>\n",
       "    <tr>\n",
       "      <th>2</th>\n",
       "      <td></td>\n",
       "      <td>Benin</td>\n",
       "      <td>8109</td>\n",
       "      <td>102</td>\n",
       "      <td>51</td>\n",
       "      <td>2021-22 and 2021-23</td>\n",
       "    </tr>\n",
       "    <tr>\n",
       "      <th>3</th>\n",
       "      <td></td>\n",
       "      <td>Botswana</td>\n",
       "      <td>62040</td>\n",
       "      <td>896</td>\n",
       "      <td>5727</td>\n",
       "      <td>2021-22 and 2021-23</td>\n",
       "    </tr>\n",
       "    <tr>\n",
       "      <th>4</th>\n",
       "      <td></td>\n",
       "      <td>Burkina_Faso</td>\n",
       "      <td>13459</td>\n",
       "      <td>167</td>\n",
       "      <td>28</td>\n",
       "      <td>2021-22 and 2021-23</td>\n",
       "    </tr>\n",
       "    <tr>\n",
       "      <th>5</th>\n",
       "      <td></td>\n",
       "      <td>Burundi</td>\n",
       "      <td>5013</td>\n",
       "      <td>8</td>\n",
       "      <td>259</td>\n",
       "      <td>2021-22 and 2021-23</td>\n",
       "    </tr>\n",
       "    <tr>\n",
       "      <th>6</th>\n",
       "      <td></td>\n",
       "      <td>Cameroon</td>\n",
       "      <td>79904</td>\n",
       "      <td>1302</td>\n",
       "      <td>1922</td>\n",
       "      <td>2021-22 and 2021-23</td>\n",
       "    </tr>\n",
       "    <tr>\n",
       "      <th>7</th>\n",
       "      <td></td>\n",
       "      <td>Cape_Verde</td>\n",
       "      <td>31571</td>\n",
       "      <td>273</td>\n",
       "      <td>1212</td>\n",
       "      <td>2021-22 and 2021-23</td>\n",
       "    </tr>\n",
       "    <tr>\n",
       "      <th>8</th>\n",
       "      <td></td>\n",
       "      <td>Central_African_Republic</td>\n",
       "      <td>10987</td>\n",
       "      <td>98</td>\n",
       "      <td>3896</td>\n",
       "      <td>2021-22 and 2021-23</td>\n",
       "    </tr>\n",
       "    <tr>\n",
       "      <th>9</th>\n",
       "      <td></td>\n",
       "      <td>Chad</td>\n",
       "      <td>4942</td>\n",
       "      <td>174</td>\n",
       "      <td>13</td>\n",
       "      <td>2021-22 and 2021-23</td>\n",
       "    </tr>\n",
       "    <tr>\n",
       "      <th>10</th>\n",
       "      <td></td>\n",
       "      <td>Comoros</td>\n",
       "      <td>3899</td>\n",
       "      <td>146</td>\n",
       "      <td>18</td>\n",
       "      <td>2021-22 and 2021-23</td>\n",
       "    </tr>\n",
       "    <tr>\n",
       "      <th>11</th>\n",
       "      <td></td>\n",
       "      <td>Congo</td>\n",
       "      <td>11920</td>\n",
       "      <td>155</td>\n",
       "      <td>262</td>\n",
       "      <td>2021-22 and 2021-23</td>\n",
       "    </tr>\n",
       "  </tbody>\n",
       "</table>\n",
       "</div>"
      ],
      "text/plain": [
       "   Region     Places reporting cases   Cases Deaths  \\\n",
       "0   Africa                   Algeria  133388   3571   \n",
       "1                             Angola   36600    825   \n",
       "2                              Benin    8109    102   \n",
       "3                           Botswana   62040    896   \n",
       "4                       Burkina_Faso   13459    167   \n",
       "5                            Burundi    5013      8   \n",
       "6                           Cameroon   79904   1302   \n",
       "7                         Cape_Verde   31571    273   \n",
       "8           Central_African_Republic   10987     98   \n",
       "9                               Chad    4942    174   \n",
       "10                           Comoros    3899    146   \n",
       "11                             Congo   11920    155   \n",
       "\n",
       "   Confirmed cases\\n\\t\\t\\t during\\n\\t\\t\\tthe 14-days  \\\n",
       "0                                               4663   \n",
       "1                                               2420   \n",
       "2                                                 51   \n",
       "3                                               5727   \n",
       "4                                                 28   \n",
       "5                                                259   \n",
       "6                                               1922   \n",
       "7                                               1212   \n",
       "8                                               3896   \n",
       "9                                                 13   \n",
       "10                                                18   \n",
       "11                                               262   \n",
       "\n",
       "   Reporting period\\n\\t\\t\\tYYYY-WW  \n",
       "0              2021-22 and 2021-23  \n",
       "1              2021-22 and 2021-23  \n",
       "2              2021-22 and 2021-23  \n",
       "3              2021-22 and 2021-23  \n",
       "4              2021-22 and 2021-23  \n",
       "5              2021-22 and 2021-23  \n",
       "6              2021-22 and 2021-23  \n",
       "7              2021-22 and 2021-23  \n",
       "8              2021-22 and 2021-23  \n",
       "9              2021-22 and 2021-23  \n",
       "10             2021-22 and 2021-23  \n",
       "11             2021-22 and 2021-23  "
      ]
     },
     "execution_count": 8,
     "metadata": {},
     "output_type": "execute_result"
    }
   ],
   "source": [
    "df.head(12)"
   ]
  },
  {
   "cell_type": "markdown",
   "id": "certain-doctrine",
   "metadata": {},
   "source": [
    "Display last 10 Rows"
   ]
  },
  {
   "cell_type": "code",
   "execution_count": 9,
   "id": "controversial-teacher",
   "metadata": {},
   "outputs": [
    {
     "data": {
      "text/html": [
       "<div>\n",
       "<style scoped>\n",
       "    .dataframe tbody tr th:only-of-type {\n",
       "        vertical-align: middle;\n",
       "    }\n",
       "\n",
       "    .dataframe tbody tr th {\n",
       "        vertical-align: top;\n",
       "    }\n",
       "\n",
       "    .dataframe thead th {\n",
       "        text-align: right;\n",
       "    }\n",
       "</style>\n",
       "<table border=\"1\" class=\"dataframe\">\n",
       "  <thead>\n",
       "    <tr style=\"text-align: right;\">\n",
       "      <th></th>\n",
       "      <th>Region</th>\n",
       "      <th>Places reporting cases</th>\n",
       "      <th>Cases</th>\n",
       "      <th>Deaths</th>\n",
       "      <th>Confirmed cases\\n\\t\\t\\t during\\n\\t\\t\\tthe 14-days</th>\n",
       "      <th>Reporting period\\n\\t\\t\\tYYYY-WW</th>\n",
       "    </tr>\n",
       "  </thead>\n",
       "  <tbody>\n",
       "    <tr>\n",
       "      <th>206</th>\n",
       "      <td></td>\n",
       "      <td>Micronesia_(Federated_States_of)</td>\n",
       "      <td>0</td>\n",
       "      <td>0</td>\n",
       "      <td>0</td>\n",
       "      <td>2021-22 and 2021-23</td>\n",
       "    </tr>\n",
       "    <tr>\n",
       "      <th>207</th>\n",
       "      <td></td>\n",
       "      <td>New_Caledonia</td>\n",
       "      <td>128</td>\n",
       "      <td>0</td>\n",
       "      <td>0</td>\n",
       "      <td>2021-22 and 2021-23</td>\n",
       "    </tr>\n",
       "    <tr>\n",
       "      <th>208</th>\n",
       "      <td></td>\n",
       "      <td>New_Zealand</td>\n",
       "      <td>2709</td>\n",
       "      <td>26</td>\n",
       "      <td>392</td>\n",
       "      <td>2021-22 and 2021-23</td>\n",
       "    </tr>\n",
       "    <tr>\n",
       "      <th>209</th>\n",
       "      <td></td>\n",
       "      <td>Northern_Mariana_Islands</td>\n",
       "      <td>183</td>\n",
       "      <td>2</td>\n",
       "      <td>0</td>\n",
       "      <td>2021-22 and 2021-23</td>\n",
       "    </tr>\n",
       "    <tr>\n",
       "      <th>210</th>\n",
       "      <td></td>\n",
       "      <td>Papua_New_Guinea</td>\n",
       "      <td>16682</td>\n",
       "      <td>165</td>\n",
       "      <td>834</td>\n",
       "      <td>2021-22 and 2021-23</td>\n",
       "    </tr>\n",
       "    <tr>\n",
       "      <th>211</th>\n",
       "      <td></td>\n",
       "      <td>Solomon_Islands</td>\n",
       "      <td>20</td>\n",
       "      <td>0</td>\n",
       "      <td>0</td>\n",
       "      <td>2021-22 and 2021-23</td>\n",
       "    </tr>\n",
       "    <tr>\n",
       "      <th>212</th>\n",
       "      <td></td>\n",
       "      <td>Vanuatu</td>\n",
       "      <td>3</td>\n",
       "      <td>0</td>\n",
       "      <td>0</td>\n",
       "      <td>2021-22 and 2021-23</td>\n",
       "    </tr>\n",
       "    <tr>\n",
       "      <th>213</th>\n",
       "      <td></td>\n",
       "      <td>Wallis_and_Futuna</td>\n",
       "      <td>454</td>\n",
       "      <td>7</td>\n",
       "      <td>9</td>\n",
       "      <td>2021-22 and 2021-23</td>\n",
       "    </tr>\n",
       "    <tr>\n",
       "      <th>214</th>\n",
       "      <td>Other</td>\n",
       "      <td>Cases_on_an_international_conveyance_Japan</td>\n",
       "      <td>705</td>\n",
       "      <td>6</td>\n",
       "      <td>0</td>\n",
       "      <td>2021-22 and 2021-23</td>\n",
       "    </tr>\n",
       "    <tr>\n",
       "      <th>215</th>\n",
       "      <td>Total</td>\n",
       "      <td></td>\n",
       "      <td>176702468</td>\n",
       "      <td>3813133</td>\n",
       "      <td>5649195</td>\n",
       "      <td></td>\n",
       "    </tr>\n",
       "  </tbody>\n",
       "</table>\n",
       "</div>"
      ],
      "text/plain": [
       "    Region                       Places reporting cases      Cases   Deaths  \\\n",
       "206                    Micronesia_(Federated_States_of)          0        0   \n",
       "207                                       New_Caledonia        128        0   \n",
       "208                                         New_Zealand       2709       26   \n",
       "209                            Northern_Mariana_Islands        183        2   \n",
       "210                                    Papua_New_Guinea      16682      165   \n",
       "211                                     Solomon_Islands         20        0   \n",
       "212                                             Vanuatu          3        0   \n",
       "213                                   Wallis_and_Futuna        454        7   \n",
       "214   Other  Cases_on_an_international_conveyance_Japan        705        6   \n",
       "215   Total                                              176702468  3813133   \n",
       "\n",
       "    Confirmed cases\\n\\t\\t\\t during\\n\\t\\t\\tthe 14-days  \\\n",
       "206                                                 0   \n",
       "207                                                 0   \n",
       "208                                               392   \n",
       "209                                                 0   \n",
       "210                                               834   \n",
       "211                                                 0   \n",
       "212                                                 0   \n",
       "213                                                 9   \n",
       "214                                                 0   \n",
       "215                                           5649195   \n",
       "\n",
       "    Reporting period\\n\\t\\t\\tYYYY-WW  \n",
       "206             2021-22 and 2021-23  \n",
       "207             2021-22 and 2021-23  \n",
       "208             2021-22 and 2021-23  \n",
       "209             2021-22 and 2021-23  \n",
       "210             2021-22 and 2021-23  \n",
       "211             2021-22 and 2021-23  \n",
       "212             2021-22 and 2021-23  \n",
       "213             2021-22 and 2021-23  \n",
       "214             2021-22 and 2021-23  \n",
       "215                                  "
      ]
     },
     "execution_count": 9,
     "metadata": {},
     "output_type": "execute_result"
    }
   ],
   "source": [
    "df.tail(10)"
   ]
  },
  {
   "cell_type": "markdown",
   "id": "dirty-volunteer",
   "metadata": {},
   "source": [
    "<b>Checking the shapes</b>"
   ]
  },
  {
   "cell_type": "code",
   "execution_count": 10,
   "id": "varying-retrieval",
   "metadata": {},
   "outputs": [
    {
     "data": {
      "text/plain": [
       "(216, 6)"
      ]
     },
     "execution_count": 10,
     "metadata": {},
     "output_type": "execute_result"
    }
   ],
   "source": [
    "df.shape  #checking the number of rows, columns in the data set"
   ]
  },
  {
   "cell_type": "markdown",
   "id": "verified-assistant",
   "metadata": {},
   "source": [
    "<h2>Let's Clean the dataframe</h2>"
   ]
  },
  {
   "cell_type": "code",
   "execution_count": 11,
   "id": "robust-repository",
   "metadata": {},
   "outputs": [],
   "source": [
    "import pandas as pd\n",
    "import numpy as np"
   ]
  },
  {
   "cell_type": "markdown",
   "id": "tired-letter",
   "metadata": {},
   "source": [
    "<b>Remove Row 215 that has</b> Total <b>record</b>"
   ]
  },
  {
   "cell_type": "code",
   "execution_count": 12,
   "id": "divine-marking",
   "metadata": {},
   "outputs": [
    {
     "data": {
      "text/html": [
       "<div>\n",
       "<style scoped>\n",
       "    .dataframe tbody tr th:only-of-type {\n",
       "        vertical-align: middle;\n",
       "    }\n",
       "\n",
       "    .dataframe tbody tr th {\n",
       "        vertical-align: top;\n",
       "    }\n",
       "\n",
       "    .dataframe thead th {\n",
       "        text-align: right;\n",
       "    }\n",
       "</style>\n",
       "<table border=\"1\" class=\"dataframe\">\n",
       "  <thead>\n",
       "    <tr style=\"text-align: right;\">\n",
       "      <th></th>\n",
       "      <th>Region</th>\n",
       "      <th>Places reporting cases</th>\n",
       "      <th>Cases</th>\n",
       "      <th>Deaths</th>\n",
       "      <th>Confirmed cases\\n\\t\\t\\t during\\n\\t\\t\\tthe 14-days</th>\n",
       "      <th>Reporting period\\n\\t\\t\\tYYYY-WW</th>\n",
       "    </tr>\n",
       "  </thead>\n",
       "  <tbody>\n",
       "    <tr>\n",
       "      <th>0</th>\n",
       "      <td>Africa</td>\n",
       "      <td>Algeria</td>\n",
       "      <td>133388</td>\n",
       "      <td>3571</td>\n",
       "      <td>4663</td>\n",
       "      <td>2021-22 and 2021-23</td>\n",
       "    </tr>\n",
       "    <tr>\n",
       "      <th>1</th>\n",
       "      <td></td>\n",
       "      <td>Angola</td>\n",
       "      <td>36600</td>\n",
       "      <td>825</td>\n",
       "      <td>2420</td>\n",
       "      <td>2021-22 and 2021-23</td>\n",
       "    </tr>\n",
       "    <tr>\n",
       "      <th>2</th>\n",
       "      <td></td>\n",
       "      <td>Benin</td>\n",
       "      <td>8109</td>\n",
       "      <td>102</td>\n",
       "      <td>51</td>\n",
       "      <td>2021-22 and 2021-23</td>\n",
       "    </tr>\n",
       "    <tr>\n",
       "      <th>3</th>\n",
       "      <td></td>\n",
       "      <td>Botswana</td>\n",
       "      <td>62040</td>\n",
       "      <td>896</td>\n",
       "      <td>5727</td>\n",
       "      <td>2021-22 and 2021-23</td>\n",
       "    </tr>\n",
       "    <tr>\n",
       "      <th>4</th>\n",
       "      <td></td>\n",
       "      <td>Burkina_Faso</td>\n",
       "      <td>13459</td>\n",
       "      <td>167</td>\n",
       "      <td>28</td>\n",
       "      <td>2021-22 and 2021-23</td>\n",
       "    </tr>\n",
       "    <tr>\n",
       "      <th>...</th>\n",
       "      <td>...</td>\n",
       "      <td>...</td>\n",
       "      <td>...</td>\n",
       "      <td>...</td>\n",
       "      <td>...</td>\n",
       "      <td>...</td>\n",
       "    </tr>\n",
       "    <tr>\n",
       "      <th>210</th>\n",
       "      <td></td>\n",
       "      <td>Papua_New_Guinea</td>\n",
       "      <td>16682</td>\n",
       "      <td>165</td>\n",
       "      <td>834</td>\n",
       "      <td>2021-22 and 2021-23</td>\n",
       "    </tr>\n",
       "    <tr>\n",
       "      <th>211</th>\n",
       "      <td></td>\n",
       "      <td>Solomon_Islands</td>\n",
       "      <td>20</td>\n",
       "      <td>0</td>\n",
       "      <td>0</td>\n",
       "      <td>2021-22 and 2021-23</td>\n",
       "    </tr>\n",
       "    <tr>\n",
       "      <th>212</th>\n",
       "      <td></td>\n",
       "      <td>Vanuatu</td>\n",
       "      <td>3</td>\n",
       "      <td>0</td>\n",
       "      <td>0</td>\n",
       "      <td>2021-22 and 2021-23</td>\n",
       "    </tr>\n",
       "    <tr>\n",
       "      <th>213</th>\n",
       "      <td></td>\n",
       "      <td>Wallis_and_Futuna</td>\n",
       "      <td>454</td>\n",
       "      <td>7</td>\n",
       "      <td>9</td>\n",
       "      <td>2021-22 and 2021-23</td>\n",
       "    </tr>\n",
       "    <tr>\n",
       "      <th>214</th>\n",
       "      <td>Other</td>\n",
       "      <td>Cases_on_an_international_conveyance_Japan</td>\n",
       "      <td>705</td>\n",
       "      <td>6</td>\n",
       "      <td>0</td>\n",
       "      <td>2021-22 and 2021-23</td>\n",
       "    </tr>\n",
       "  </tbody>\n",
       "</table>\n",
       "<p>215 rows × 6 columns</p>\n",
       "</div>"
      ],
      "text/plain": [
       "    Region                       Places reporting cases   Cases Deaths  \\\n",
       "0    Africa                                     Algeria  133388   3571   \n",
       "1                                                Angola   36600    825   \n",
       "2                                                 Benin    8109    102   \n",
       "3                                              Botswana   62040    896   \n",
       "4                                          Burkina_Faso   13459    167   \n",
       "..      ...                                         ...     ...    ...   \n",
       "210                                    Papua_New_Guinea   16682    165   \n",
       "211                                     Solomon_Islands      20      0   \n",
       "212                                             Vanuatu       3      0   \n",
       "213                                   Wallis_and_Futuna     454      7   \n",
       "214   Other  Cases_on_an_international_conveyance_Japan     705      6   \n",
       "\n",
       "    Confirmed cases\\n\\t\\t\\t during\\n\\t\\t\\tthe 14-days  \\\n",
       "0                                                4663   \n",
       "1                                                2420   \n",
       "2                                                  51   \n",
       "3                                                5727   \n",
       "4                                                  28   \n",
       "..                                                ...   \n",
       "210                                               834   \n",
       "211                                                 0   \n",
       "212                                                 0   \n",
       "213                                                 9   \n",
       "214                                                 0   \n",
       "\n",
       "    Reporting period\\n\\t\\t\\tYYYY-WW  \n",
       "0               2021-22 and 2021-23  \n",
       "1               2021-22 and 2021-23  \n",
       "2               2021-22 and 2021-23  \n",
       "3               2021-22 and 2021-23  \n",
       "4               2021-22 and 2021-23  \n",
       "..                              ...  \n",
       "210             2021-22 and 2021-23  \n",
       "211             2021-22 and 2021-23  \n",
       "212             2021-22 and 2021-23  \n",
       "213             2021-22 and 2021-23  \n",
       "214             2021-22 and 2021-23  \n",
       "\n",
       "[215 rows x 6 columns]"
      ]
     },
     "execution_count": 12,
     "metadata": {},
     "output_type": "execute_result"
    }
   ],
   "source": [
    "# Delete row at index position Region: Total\n",
    "df2 = df.drop([df.index[215]])\n",
    "df2"
   ]
  },
  {
   "cell_type": "markdown",
   "id": "labeled-carroll",
   "metadata": {},
   "source": [
    "# Data Analysis"
   ]
  },
  {
   "cell_type": "markdown",
   "id": "dominican-colorado",
   "metadata": {},
   "source": [
    "<b>I will now import libraries to enable us analyse the data</b>"
   ]
  },
  {
   "cell_type": "code",
   "execution_count": 13,
   "id": "unlike-reliance",
   "metadata": {},
   "outputs": [
    {
     "name": "stdout",
     "output_type": "stream",
     "text": [
      "Collecting package metadata (current_repodata.json): done\n",
      "Solving environment: done\n",
      "\n",
      "\n",
      "==> WARNING: A newer version of conda exists. <==\n",
      "  current version: 4.9.2\n",
      "  latest version: 4.10.1\n",
      "\n",
      "Please update conda by running\n",
      "\n",
      "    $ conda update -n base conda\n",
      "\n",
      "\n",
      "\n",
      "## Package Plan ##\n",
      "\n",
      "  environment location: /srv/conda/envs/notebook\n",
      "\n",
      "  added / updated specs:\n",
      "    - seaborn\n",
      "\n",
      "\n",
      "The following packages will be SUPERSEDED by a higher-priority channel:\n",
      "\n",
      "  ca-certificates    conda-forge::ca-certificates-2021.5.3~ --> anaconda::ca-certificates-2020.10.14-0\n",
      "  certifi            conda-forge::certifi-2021.5.30-py36h5~ --> anaconda::certifi-2020.6.20-py36_0\n",
      "\n",
      "\n",
      "Preparing transaction: done\n",
      "Verifying transaction: done\n",
      "Executing transaction: done\n"
     ]
    }
   ],
   "source": [
    "!conda install -c anaconda seaborn -y\n",
    "import pandas as pd\n",
    "import matplotlib.pyplot as plt\n",
    "import numpy as np\n",
    "import seaborn as sns\n",
    "import matplotlib.pyplot as plt\n",
    "from sklearn.pipeline import Pipeline\n",
    "from sklearn.preprocessing import StandardScaler,PolynomialFeatures\n",
    "%matplotlib inline"
   ]
  },
  {
   "cell_type": "code",
   "execution_count": 14,
   "id": "stainless-conversion",
   "metadata": {},
   "outputs": [],
   "source": [
    "%%capture\n",
    "! pip install seaborn"
   ]
  },
  {
   "cell_type": "code",
   "execution_count": 15,
   "id": "instrumental-square",
   "metadata": {},
   "outputs": [],
   "source": [
    "import matplotlib.pyplot as plt\n",
    "import pandas as pd\n",
    "import seaborn as sns\n",
    "%matplotlib inline"
   ]
  },
  {
   "cell_type": "code",
   "execution_count": 16,
   "id": "warming-tyler",
   "metadata": {},
   "outputs": [],
   "source": [
    "#sns.regplot(x=\"Cases\", y=\"Deaths\", data=\"df2\")\n",
    "#plt.ylim(0, )"
   ]
  },
  {
   "cell_type": "markdown",
   "id": "smart-prayer",
   "metadata": {},
   "source": [
    "<h2>And now let's Explore the Data</h2>"
   ]
  },
  {
   "cell_type": "code",
   "execution_count": 17,
   "id": "ongoing-zimbabwe",
   "metadata": {},
   "outputs": [
    {
     "data": {
      "text/html": [
       "<div>\n",
       "<style scoped>\n",
       "    .dataframe tbody tr th:only-of-type {\n",
       "        vertical-align: middle;\n",
       "    }\n",
       "\n",
       "    .dataframe tbody tr th {\n",
       "        vertical-align: top;\n",
       "    }\n",
       "\n",
       "    .dataframe thead th {\n",
       "        text-align: right;\n",
       "    }\n",
       "</style>\n",
       "<table border=\"1\" class=\"dataframe\">\n",
       "  <thead>\n",
       "    <tr style=\"text-align: right;\">\n",
       "      <th></th>\n",
       "      <th>Region</th>\n",
       "      <th>Places reporting cases</th>\n",
       "      <th>Cases</th>\n",
       "      <th>Deaths</th>\n",
       "      <th>Confirmed cases\\n\\t\\t\\t during\\n\\t\\t\\tthe 14-days</th>\n",
       "      <th>Reporting period\\n\\t\\t\\tYYYY-WW</th>\n",
       "    </tr>\n",
       "  </thead>\n",
       "  <tbody>\n",
       "    <tr>\n",
       "      <th>count</th>\n",
       "      <td>215</td>\n",
       "      <td>215</td>\n",
       "      <td>215</td>\n",
       "      <td>215</td>\n",
       "      <td>215</td>\n",
       "      <td>215</td>\n",
       "    </tr>\n",
       "    <tr>\n",
       "      <th>unique</th>\n",
       "      <td>7</td>\n",
       "      <td>215</td>\n",
       "      <td>214</td>\n",
       "      <td>191</td>\n",
       "      <td>190</td>\n",
       "      <td>1</td>\n",
       "    </tr>\n",
       "    <tr>\n",
       "      <th>top</th>\n",
       "      <td></td>\n",
       "      <td>Nicaragua</td>\n",
       "      <td>20</td>\n",
       "      <td>0</td>\n",
       "      <td>0</td>\n",
       "      <td>2021-22 and 2021-23</td>\n",
       "    </tr>\n",
       "    <tr>\n",
       "      <th>freq</th>\n",
       "      <td>209</td>\n",
       "      <td>1</td>\n",
       "      <td>2</td>\n",
       "      <td>11</td>\n",
       "      <td>18</td>\n",
       "      <td>215</td>\n",
       "    </tr>\n",
       "  </tbody>\n",
       "</table>\n",
       "</div>"
      ],
      "text/plain": [
       "       Region  Places reporting cases Cases Deaths  \\\n",
       "count      215                    215   215    215   \n",
       "unique       7                    215   214    191   \n",
       "top                         Nicaragua    20      0   \n",
       "freq       209                      1     2     11   \n",
       "\n",
       "       Confirmed cases\\n\\t\\t\\t during\\n\\t\\t\\tthe 14-days  \\\n",
       "count                                                215   \n",
       "unique                                               190   \n",
       "top                                                    0   \n",
       "freq                                                  18   \n",
       "\n",
       "       Reporting period\\n\\t\\t\\tYYYY-WW  \n",
       "count                              215  \n",
       "unique                               1  \n",
       "top                2021-22 and 2021-23  \n",
       "freq                               215  "
      ]
     },
     "execution_count": 17,
     "metadata": {},
     "output_type": "execute_result"
    }
   ],
   "source": [
    "df2.describe()"
   ]
  },
  {
   "cell_type": "markdown",
   "id": "chicken-arbor",
   "metadata": {},
   "source": [
    "<b> I check if we have any missing values for the columns.</b>"
   ]
  },
  {
   "cell_type": "code",
   "execution_count": 18,
   "id": "optional-ivory",
   "metadata": {},
   "outputs": [
    {
     "data": {
      "text/plain": [
       "'Absent'"
      ]
     },
     "execution_count": 18,
     "metadata": {},
     "output_type": "execute_result"
    }
   ],
   "source": [
    "df2.get('Region', default='Absent') #Column 'Region' is missing, I don't know why"
   ]
  },
  {
   "cell_type": "code",
   "execution_count": 19,
   "id": "helpful-coordinate",
   "metadata": {},
   "outputs": [
    {
     "data": {
      "text/plain": [
       "Region                                               0\n",
       "Places reporting cases                               0\n",
       "Cases                                                0\n",
       "Deaths                                               0\n",
       "Confirmed cases\\n\\t\\t\\t during\\n\\t\\t\\tthe 14-days    0\n",
       "Reporting period\\n\\t\\t\\tYYYY-WW                      0\n",
       "dtype: int64"
      ]
     },
     "execution_count": 19,
     "metadata": {},
     "output_type": "execute_result"
    }
   ],
   "source": [
    "df2.isnull().sum(axis = 0) #Checking the for missing values in all columns\n",
    "#print(\"number of NaN values for the column Region :\", df2['Region'].isnull().sum())\n",
    "#print(\"number of NaN values for the column Places reporting cases:\", df2['Places reporting cases'].isnull().sum())\n",
    "#print(\"number of NaN values for the column Cases :\", df2['Cases'].isnull().sum())\n",
    "#print(\"number of NaN values for the column Deaths :\", df2['Deaths'].isnull().sum())\n",
    "#print(\"number of NaN values for the column Confirmed Confirmed cases during the 14 days :\", df2['Confirmed cases during the 14 days'].isnull().sum())"
   ]
  },
  {
   "cell_type": "markdown",
   "id": "magnetic-brake",
   "metadata": {},
   "source": [
    "# Exploratory data analysis"
   ]
  },
  {
   "cell_type": "markdown",
   "id": "paperback-commission",
   "metadata": {},
   "source": [
    "<b> Identifying number of cases reported by region<b/>"
   ]
  },
  {
   "cell_type": "code",
   "execution_count": 20,
   "id": "conscious-inflation",
   "metadata": {},
   "outputs": [],
   "source": [
    "#df2['Region'].value_counts().to_frame() #Not recognising column 'Region'. I couldn't figure out why"
   ]
  },
  {
   "cell_type": "markdown",
   "id": "controlled-jordan",
   "metadata": {},
   "source": [
    "# Model Development"
   ]
  },
  {
   "cell_type": "code",
   "execution_count": 21,
   "id": "constitutional-excellence",
   "metadata": {},
   "outputs": [],
   "source": [
    "#Import libraries \n",
    "import matplotlib.pyplot as plt\n",
    "import numpy as np\n",
    "from sklearn.linear_model import LinearRegression \n",
    "%matplotlib inline"
   ]
  },
  {
   "cell_type": "code",
   "execution_count": 22,
   "id": "vocational-namibia",
   "metadata": {},
   "outputs": [
    {
     "name": "stdout",
     "output_type": "stream",
     "text": [
      "Collecting package metadata (current_repodata.json): done\n",
      "Solving environment: done\n",
      "\n",
      "\n",
      "==> WARNING: A newer version of conda exists. <==\n",
      "  current version: 4.9.2\n",
      "  latest version: 4.10.1\n",
      "\n",
      "Please update conda by running\n",
      "\n",
      "    $ conda update -n base conda\n",
      "\n",
      "\n",
      "\n",
      "# All requested packages already installed.\n",
      "\n"
     ]
    }
   ],
   "source": [
    "!conda install -c anaconda xlrd --yes"
   ]
  },
  {
   "cell_type": "markdown",
   "id": "trained-forum",
   "metadata": {},
   "source": [
    "# Simple Linear Regression Development"
   ]
  },
  {
   "cell_type": "markdown",
   "id": "respected-valuable",
   "metadata": {},
   "source": [
    "Calculating the R^2 for <b>Deaths</b> using The <b>Cases</b>"
   ]
  },
  {
   "cell_type": "code",
   "execution_count": 23,
   "id": "reliable-myanmar",
   "metadata": {},
   "outputs": [
    {
     "data": {
      "text/plain": [
       "0.8591020688490538"
      ]
     },
     "execution_count": 23,
     "metadata": {},
     "output_type": "execute_result"
    }
   ],
   "source": [
    "X = df2[['Cases']] \n",
    "Y = df2['Deaths'] \n",
    "lm = LinearRegression() \n",
    "lm \n",
    "lm.fit(X,Y)\n",
    "lm.score(X, Y)"
   ]
  },
  {
   "cell_type": "markdown",
   "id": "powered-inventory",
   "metadata": {},
   "source": [
    "<b>Using identified cases to predict deaths</b>"
   ]
  },
  {
   "cell_type": "code",
   "execution_count": 24,
   "id": "armed-general",
   "metadata": {},
   "outputs": [
    {
     "data": {
      "text/plain": [
       "array([5492.29241779, 3771.125482  , 3264.47417019, 4223.52130428,\n",
       "       3359.61244257])"
      ]
     },
     "execution_count": 24,
     "metadata": {},
     "output_type": "execute_result"
    }
   ],
   "source": [
    "X = df2[['Cases']] \n",
    "Y = df2['Deaths'] \n",
    "lm = LinearRegression()\n",
    "lm\n",
    "lm.fit(X,Y)\n",
    "\n",
    "Yhat=lm.predict(X)\n",
    "Yhat[0:5]"
   ]
  },
  {
   "cell_type": "code",
   "execution_count": null,
   "id": "above-folder",
   "metadata": {},
   "outputs": [],
   "source": []
  },
  {
   "cell_type": "markdown",
   "id": "normal-republican",
   "metadata": {},
   "source": [
    "Calculating the value of the <b>intercept</b>"
   ]
  },
  {
   "cell_type": "code",
   "execution_count": 25,
   "id": "mineral-scotland",
   "metadata": {},
   "outputs": [
    {
     "data": {
      "text/plain": [
       "3120.2730018427264"
      ]
     },
     "execution_count": 25,
     "metadata": {},
     "output_type": "execute_result"
    }
   ],
   "source": [
    "lm.intercept_"
   ]
  },
  {
   "cell_type": "markdown",
   "id": "ranking-seafood",
   "metadata": {},
   "source": [
    "Calculating the value of the <b>slope</b>"
   ]
  },
  {
   "cell_type": "code",
   "execution_count": 26,
   "id": "surface-enforcement",
   "metadata": {},
   "outputs": [
    {
     "data": {
      "text/plain": [
       "array([0.01778285])"
      ]
     },
     "execution_count": 26,
     "metadata": {},
     "output_type": "execute_result"
    }
   ],
   "source": [
    "lm.coef_"
   ]
  },
  {
   "cell_type": "markdown",
   "id": "photographic-cache",
   "metadata": {},
   "source": [
    "# The final estimated linear model;"
   ]
  },
  {
   "cell_type": "markdown",
   "id": "electrical-approach",
   "metadata": {},
   "source": [
    "Using the formulae <b>Y = mx + c</b>"
   ]
  },
  {
   "cell_type": "markdown",
   "id": "hairy-angola",
   "metadata": {},
   "source": [
    "Replacing the values, We get;"
   ]
  },
  {
   "cell_type": "markdown",
   "id": "copyrighted-teach",
   "metadata": {},
   "source": [
    "<b>Deaths = 0.01778285 X Cases + 3120.2730018427264</b> as of data update of 17th June 2021 at 09:17pm. However, this Linear model keeps changing as the numbers of cases and deaths increases"
   ]
  },
  {
   "cell_type": "markdown",
   "id": "auburn-angola",
   "metadata": {},
   "source": []
  },
  {
   "cell_type": "markdown",
   "id": "swedish-circulation",
   "metadata": {},
   "source": [
    "# Measures for In-Sample Evaluation of Linear Regression"
   ]
  },
  {
   "cell_type": "markdown",
   "id": "nutritional-level",
   "metadata": {},
   "source": [
    "<h1>a). R-squared</h1>"
   ]
  },
  {
   "cell_type": "markdown",
   "id": "hispanic-oakland",
   "metadata": {},
   "source": [
    "R squared, also known as the <b>coefficient of determination</b>, is a measure to indicate how close the data is to the fitted regression line. The value of the R-squared is the percentage (%) of variation of the response variable (y) that is explained by a linear model."
   ]
  },
  {
   "cell_type": "code",
   "execution_count": 27,
   "id": "bearing-christopher",
   "metadata": {},
   "outputs": [
    {
     "name": "stdout",
     "output_type": "stream",
     "text": [
      "The R-square is:  0.8591020688490538\n"
     ]
    }
   ],
   "source": [
    "#Cases_fit\n",
    "lm.fit(X, Y)\n",
    "# Find the R^2\n",
    "print('The R-square is: ', lm.score(X, Y))"
   ]
  },
  {
   "cell_type": "markdown",
   "id": "advisory-commitment",
   "metadata": {},
   "source": [
    "I conclude that ~ <b>85.9%</b> of the variation of the <b>Deaths</b> is explained by this simple linear model \"Cases_fit\""
   ]
  },
  {
   "cell_type": "markdown",
   "id": "separated-herald",
   "metadata": {},
   "source": [
    "<h1>b). Mean Squared Error (MSE)</h1>"
   ]
  },
  {
   "cell_type": "markdown",
   "id": "ordered-filling",
   "metadata": {},
   "source": [
    "The Mean Squared Error measures the <b>average of the squares of errors</b>, that is, the difference between actual value (y) and the estimated value (ŷ)."
   ]
  },
  {
   "cell_type": "markdown",
   "id": "precious-picnic",
   "metadata": {},
   "source": [
    "<b>Let's calculate the MSE of our data</b>\n"
   ]
  },
  {
   "cell_type": "markdown",
   "id": "weighted-integrity",
   "metadata": {},
   "source": [
    "We can predict the output i.e., \"yhat\" using the <b>predict method</b>, where X is the input variable:"
   ]
  },
  {
   "cell_type": "code",
   "execution_count": 28,
   "id": "outer-details",
   "metadata": {},
   "outputs": [
    {
     "name": "stdout",
     "output_type": "stream",
     "text": [
      "The output of the first five predicted value is:  [5492.29241779 3771.125482   3264.47417019 4223.52130428 3359.61244257]\n"
     ]
    }
   ],
   "source": [
    "Yhat=lm.predict(X)\n",
    "print('The output of the first five predicted value is: ', Yhat[0:5])"
   ]
  },
  {
   "cell_type": "markdown",
   "id": "compact-letter",
   "metadata": {},
   "source": [
    "\n",
    "Let's import the function <b>mean_squared_error</b> from the module metrics"
   ]
  },
  {
   "cell_type": "code",
   "execution_count": 29,
   "id": "affecting-iraqi",
   "metadata": {},
   "outputs": [],
   "source": [
    "from sklearn.metrics import mean_squared_error"
   ]
  },
  {
   "cell_type": "markdown",
   "id": "designed-palestinian",
   "metadata": {},
   "source": [
    "<b>We compare the predicted results with the actual results</b>"
   ]
  },
  {
   "cell_type": "code",
   "execution_count": 30,
   "id": "unsigned-evening",
   "metadata": {},
   "outputs": [
    {
     "name": "stdout",
     "output_type": "stream",
     "text": [
      "The mean square error of Death and predicted value is:  579868953.4089152\n"
     ]
    }
   ],
   "source": [
    "\n",
    "mse = mean_squared_error(df2['Deaths'], Yhat)\n",
    "print('The mean square error of Death and predicted value is: ', mse)"
   ]
  },
  {
   "cell_type": "markdown",
   "id": "physical-ivory",
   "metadata": {},
   "source": [
    "# Conclusion"
   ]
  },
  {
   "cell_type": "markdown",
   "id": "crude-feedback",
   "metadata": {},
   "source": [
    "The scope of this analysis is limited to <b>Simple Linear Regression Model</b>.\n",
    "However, using <b>Multiple Linear Regression model</b> and compare results would be better to be able to <b>predict Deaths</b>\n",
    "from our dataset."
   ]
  },
  {
   "cell_type": "markdown",
   "id": "composite-violation",
   "metadata": {},
   "source": [
    "Model for predicting deaths based on cases is:"
   ]
  },
  {
   "cell_type": "markdown",
   "id": "active-satin",
   "metadata": {},
   "source": [
    "# Deaths = 0.01778285 X Cases + 3120.2730018427264"
   ]
  },
  {
   "cell_type": "markdown",
   "id": "fatal-protection",
   "metadata": {},
   "source": [
    "As of 17th June 2021 at 09:17pm. However, This model keeps on changing as data is being updated daily."
   ]
  },
  {
   "cell_type": "markdown",
   "id": "residential-puppy",
   "metadata": {},
   "source": [
    "# Thank you"
   ]
  },
  {
   "cell_type": "markdown",
   "id": "variable-insulation",
   "metadata": {},
   "source": [
    "# Author:"
   ]
  },
  {
   "cell_type": "markdown",
   "id": "individual-mistress",
   "metadata": {},
   "source": [
    "This notebook was written by <b>Isaac Etungu</b>. \n",
    "Isaac is a student at Uganda Technology & Management University in Uganda, and holds a bachelors degree of Agricultural Scinece & Entrepreneuarship.\n",
    "Currently Persuing a Masters in Information Technology at Uganda Technology & Management University."
   ]
  }
 ],
 "metadata": {
  "kernelspec": {
   "display_name": "Python 3",
   "language": "python",
   "name": "python3"
  },
  "language_info": {
   "codemirror_mode": {
    "name": "ipython",
    "version": 3
   },
   "file_extension": ".py",
   "mimetype": "text/x-python",
   "name": "python",
   "nbconvert_exporter": "python",
   "pygments_lexer": "ipython3",
   "version": "3.6.13"
  }
 },
 "nbformat": 4,
 "nbformat_minor": 5
}
